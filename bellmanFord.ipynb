{
  "nbformat": 4,
  "nbformat_minor": 0,
  "metadata": {
    "colab": {
      "provenance": [],
      "gpuType": "T4",
      "authorship_tag": "ABX9TyMpLZkPYhr4sBAXOFjhglas",
      "include_colab_link": true
    },
    "kernelspec": {
      "name": "python3",
      "display_name": "Python 3"
    },
    "language_info": {
      "name": "python"
    },
    "accelerator": "GPU"
  },
  "cells": [
    {
      "cell_type": "markdown",
      "metadata": {
        "id": "view-in-github",
        "colab_type": "text"
      },
      "source": [
        "<a href=\"https://colab.research.google.com/github/babsubra1980/Term-Project-ParallelAlgorithm/blob/main/bellmanFord.ipynb\" target=\"_parent\"><img src=\"https://colab.research.google.com/assets/colab-badge.svg\" alt=\"Open In Colab\"/></a>"
      ]
    },
    {
      "cell_type": "code",
      "execution_count": 1,
      "metadata": {
        "colab": {
          "base_uri": "https://localhost:8080/"
        },
        "id": "zpgEB6zQOBQA",
        "outputId": "4337394b-7049-4e67-a890-70169b3a6ae0"
      },
      "outputs": [
        {
          "output_type": "stream",
          "name": "stdout",
          "text": [
            "nvcc: NVIDIA (R) Cuda compiler driver\n",
            "Copyright (c) 2005-2022 NVIDIA Corporation\n",
            "Built on Wed_Sep_21_10:33:58_PDT_2022\n",
            "Cuda compilation tools, release 11.8, V11.8.89\n",
            "Build cuda_11.8.r11.8/compiler.31833905_0\n"
          ]
        }
      ],
      "source": [
        "!nvcc --version"
      ]
    },
    {
      "cell_type": "code",
      "source": [
        "!pip install git+https://github.com/andreinechaev/nvcc4jupyter.git"
      ],
      "metadata": {
        "colab": {
          "base_uri": "https://localhost:8080/"
        },
        "id": "5xkk76SoOb9L",
        "outputId": "8c4b6757-15fb-4f49-da0c-4a9aa509303b"
      },
      "execution_count": 2,
      "outputs": [
        {
          "output_type": "stream",
          "name": "stdout",
          "text": [
            "Collecting git+https://github.com/andreinechaev/nvcc4jupyter.git\n",
            "  Cloning https://github.com/andreinechaev/nvcc4jupyter.git to /tmp/pip-req-build-s3k72u9r\n",
            "  Running command git clone --filter=blob:none --quiet https://github.com/andreinechaev/nvcc4jupyter.git /tmp/pip-req-build-s3k72u9r\n",
            "  Resolved https://github.com/andreinechaev/nvcc4jupyter.git to commit 0a71d56e5dce3ff1f0dd2c47c29367629262f527\n",
            "  Preparing metadata (setup.py) ... \u001b[?25l\u001b[?25hdone\n",
            "Building wheels for collected packages: NVCCPlugin\n",
            "  Building wheel for NVCCPlugin (setup.py) ... \u001b[?25l\u001b[?25hdone\n",
            "  Created wheel for NVCCPlugin: filename=NVCCPlugin-0.0.2-py3-none-any.whl size=4294 sha256=14958e28b153e56ae7b154b64391ab3e3c5145c3889ee46f8b30717cac9afd5f\n",
            "  Stored in directory: /tmp/pip-ephem-wheel-cache-racdbj7j/wheels/a8/b9/18/23f8ef71ceb0f63297dd1903aedd067e6243a68ea756d6feea\n",
            "Successfully built NVCCPlugin\n",
            "Installing collected packages: NVCCPlugin\n",
            "Successfully installed NVCCPlugin-0.0.2\n"
          ]
        }
      ]
    },
    {
      "cell_type": "code",
      "source": [
        "%load_ext nvcc_plugin"
      ],
      "metadata": {
        "colab": {
          "base_uri": "https://localhost:8080/"
        },
        "id": "yZcqVE2nOfNU",
        "outputId": "fc6f50e0-93e2-4531-f258-715dee65e64e"
      },
      "execution_count": 3,
      "outputs": [
        {
          "output_type": "stream",
          "name": "stdout",
          "text": [
            "created output directory at /content/src\n",
            "Out bin /content/result.out\n"
          ]
        }
      ]
    },
    {
      "cell_type": "code",
      "source": [
        "\n",
        "%%cu\n",
        "#include <cuda_runtime.h>\n",
        "#include <device_launch_parameters.h>\n",
        "#include <iostream>\n",
        "\n",
        "#define MAX_INT 1000000\n",
        "\n",
        "__global__ void bellmanFord(int *dev_edges, int *dev_weights, int *dev_distances, int num_vertices, int num_edges) {\n",
        "    int tid = blockIdx.x * blockDim.x + threadIdx.x;\n",
        "\n",
        "    if (tid < num_vertices) {\n",
        "        for (int i = 0; i < num_edges; ++i) {\n",
        "            int source = dev_edges[i * 3];\n",
        "            int destination = dev_edges[i * 3 + 1];\n",
        "            int weight = dev_weights[i];\n",
        "\n",
        "            if (dev_distances[source] != MAX_INT && dev_distances[source] + weight < dev_distances[destination]) {\n",
        "                atomicMin(&dev_distances[destination], dev_distances[source] + weight);\n",
        "            }\n",
        "        }\n",
        "    }\n",
        "}\n",
        "\n",
        "int main() {\n",
        "    const int num_vertices = 5;\n",
        "    const int num_edges = 8;\n",
        "\n",
        "    int edges[num_edges][3] = {\n",
        "        {0, 1, 5},\n",
        "        {0, 2, -2},\n",
        "        {1, 2, 4},\n",
        "        {1, 3, 3},\n",
        "        {2, 1, 6},\n",
        "        {2, 3, 7},\n",
        "        {2, 4, 2},\n",
        "        {3, 4, 1}\n",
        "    };\n",
        "\n",
        "    int weights[num_edges] = {5, -2, 4, 3, 6, 7, 2, 1};\n",
        "\n",
        "    int distances[num_vertices] = {0, MAX_INT, MAX_INT, MAX_INT, MAX_INT};\n",
        "\n",
        "    int *dev_edges, *dev_weights, *dev_distances;\n",
        "\n",
        "    cudaMalloc((void**)&dev_edges, num_edges * 3 * sizeof(int));\n",
        "    cudaMalloc((void**)&dev_weights, num_edges * sizeof(int));\n",
        "    cudaMalloc((void**)&dev_distances, num_vertices * sizeof(int));\n",
        "\n",
        "    cudaMemcpy(dev_edges, edges, num_edges * 3 * sizeof(int), cudaMemcpyHostToDevice);\n",
        "    cudaMemcpy(dev_weights, weights, num_edges * sizeof(int), cudaMemcpyHostToDevice);\n",
        "    cudaMemcpy(dev_distances, distances, num_vertices * sizeof(int), cudaMemcpyHostToDevice);\n",
        "\n",
        "    const int num_blocks = 1;\n",
        "    const int num_threads_per_block = num_vertices;\n",
        "\n",
        "    bellmanFord<<<num_blocks, num_threads_per_block>>>(dev_edges, dev_weights, dev_distances, num_vertices, num_edges);\n",
        "\n",
        "    cudaMemcpy(distances, dev_distances, num_vertices * sizeof(int), cudaMemcpyDeviceToHost);\n",
        "\n",
        "    // Print the distances\n",
        "    for (int i = 0; i < num_vertices; ++i) {\n",
        "        std::cout << \"Distance to vertex \" << i << \" is: \" << distances[i] << std::endl;\n",
        "    }\n",
        "\n",
        "    cudaFree(dev_edges);\n",
        "    cudaFree(dev_weights);\n",
        "    cudaFree(dev_distances);\n",
        "\n",
        "    return 0;\n",
        "}\n"
      ],
      "metadata": {
        "colab": {
          "base_uri": "https://localhost:8080/"
        },
        "id": "dGxELeVlOrjo",
        "outputId": "3c1ec337-4885-46a7-d8eb-79de428ce2e5"
      },
      "execution_count": 8,
      "outputs": [
        {
          "output_type": "stream",
          "name": "stdout",
          "text": [
            "Distance to vertex 0 is: 0\n",
            "Distance to vertex 1 is: 4\n",
            "Distance to vertex 2 is: -2\n",
            "Distance to vertex 3 is: 5\n",
            "Distance to vertex 4 is: 0\n",
            "\n"
          ]
        }
      ]
    },
    {
      "cell_type": "code",
      "source": [],
      "metadata": {
        "id": "N6rhqATSO1f5"
      },
      "execution_count": null,
      "outputs": []
    }
  ]
}
